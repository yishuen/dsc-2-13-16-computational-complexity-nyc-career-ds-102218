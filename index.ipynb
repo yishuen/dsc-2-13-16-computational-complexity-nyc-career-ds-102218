{
 "cells": [
  {
   "cell_type": "markdown",
   "metadata": {},
   "source": [
    "# Computational Complexity: From OLS to Gradient Descent\n",
    "\n",
    "## Introduction\n",
    "\n",
    "In this lesson, we’ll introduce you to the area of computational complexity. We will relate this idea to the OLS regression and see how this may not be the MOST efficient algorithm to calculate the regression paramaters when performing regression with large datasets. We shall set a stage for an optimization algorithm called \"Gradient Descent\" which will be covered in detail in the following section of this module. \n",
    "\n",
    "## Objectives\n",
    "\n",
    "You will be able to:\n",
    "\n",
    "* Understand and explain why Ordinary Least Squares using Matrix algebra could become problematic for large/complex data\n",
    "* Understand basics of computational complexity in terms on Big-O notation\n",
    "* Explain how a machine learning optimization technique like gradient descent can solve the complexity issues "
   ]
  },
  {
   "cell_type": "markdown",
   "metadata": {},
   "source": [
    "## Complexities in OLS"
   ]
  },
  {
   "cell_type": "markdown",
   "metadata": {},
   "source": [
    "Recall the OLS formula for calculating the beta vector:\n",
    "####    β = (X′ .  X) <sup>−1</sup> .  X′ .  Y"
   ]
  },
  {
   "cell_type": "markdown",
   "metadata": {},
   "source": [
    "This formula looks very simple, elegant and intuitive. It works perfectly fine for the case of simple linear regression due to limited number of computed dimensions, but with datasets which qualify as very large or BIG DATA sets, it becomes computationally very expensive as it can potentially involve a huge number complex mathematical operations. \n",
    "\n",
    "For this formula, we need to find (X′ .  X)  , and invert it as well, which makes it very expensive. Imagine is matrix X<sub>(N x M+1)</sub> has M+1 columns where M is the number of predictors and N is the number of rows of observations. In a machine learning practice, you will often find datasets with M >1000 and N > 1,000,000. The X′X matrix itself takes a  while to calculate, then you have to invert M×M matrix which adds more to the complexity -  making it hugely expensive. It may also be the case the input matrix grows so large that it can not fit into your computer's memory. \n",
    "\n",
    "### The Big-O Notation\n",
    "\n",
    "In computer science, Big O notation is used to describe how ‘fast’ an algorithm grows, by comparing the number of operations within the algorithm. Big O notation helps you see the worst-case scenario for an algorithm. Typically, we are most concerned with the Big O time because we are interested in how slowly a given algorithm will possibly  run at worst.\n",
    "\n",
    "#### Example\n",
    "\n",
    "What’s the most straightforward way of finding this person? Well, you could go through every single name in the phone book until you find your target. This is known as a simple search. If the phone book is not very long, with say, only 10 names, this is a fairly fast process. But what if there are 10,000 names in the phone book?\n",
    "\n",
    "At best, your target’s name is at the front of the list and you only need to need to check the first item. At worst, your target’s name is at the very end of the phone book and you will need to have searched all 1000 names. As the ‘dataset’ (or the phone book) increases in size, the maximum time it takes to run a simple search also linearly increases.\n",
    "\n",
    "In this case, our algorithm is a simple search. Big O notation allows us to describe what our worst case is. Our worst case is that we will have to search through all elements (n) in the phone book. We can describe the run-time as:\n",
    "\n",
    "> **O(n) where n: number of operations**\n",
    "\n",
    "Because the maximum number of operations is equal to the maximum number of elements in our phone book, we say the Big O of a simple search is O(n). **A simple search will never be slower than O(n) time.**\n",
    "\n",
    "Different algorithms have different run-times. That is, algorithms grow at different rates. The most common Big O run-times, from fastest to slowest, are:\n",
    "\n",
    "* O(log n): aka log time\n",
    "* O(n): aka linear time\n",
    "* O(n log n)\n",
    "* O(n²)\n",
    "* O(n<sup>3</sup>)\n",
    "* O(n!)\n",
    "\n",
    "This can be shown in following figure:\n",
    "![](bigo.jpeg)\n",
    "\n",
    "### OLS and Big-o Notation\n",
    "\n",
    "Inverting a matrix costs **O(n<sup>3</sup>)** for computation where n is the number of rows in X matrix i.e. the observations. Here is an explanation on how to calculate Big-O for OLS.\n",
    "```\n",
    "The linear regression is computed as (X'X)^-1 X'Y.\n",
    "\n",
    "If X is an (n x k) matrix:\n",
    "\n",
    "(X' X) takes O(n*k^2) time and produces a (k x k) matrix\n",
    "\n",
    "The matrix inversion of a (k x k) matrix takes O(k^3) time\n",
    "\n",
    "(X' Y) takes O(n*k^2) time and produces a (k x k) matrix\n",
    "\n",
    "The final matrix multiplication of two (k x k) matrices takes O(k^3) time\n",
    "\n",
    "```\n",
    "#### So the Big-O running time for OLS is O(k<sup>2*(n + k)</sup>) - NOW THATS EXPENSIVE.\n",
    "\n",
    "#### If the X is ill conditioned  i.e. it isnt a square matrix etc., then it will create computational errors in estimation. \n",
    "\n",
    "#### Another problem is overfitting and underfitting in estimation of regression coefficients that can't be helped too much with Ordinary Least Squares.\n",
    "\n",
    "So, this leads us to the Gradient Descent kind of optimization algorithm which can save us from this type of problem. The main reason why gradient descent is used for linear regression is the computational complexity: it's computationally cheaper (faster) to find the solution using the gradient descent in most cases."
   ]
  },
  {
   "cell_type": "markdown",
   "metadata": {},
   "source": [
    "## Gradient Descent \n",
    "![](grad.png)\n",
    "\n",
    "> Gradient Descent is an iterative approach to minimize the model loss (error), used while training a machine learning model like linear regression. It is an optimization algorithm based on a convex function as shown in the figure above, that tweaks it’s parameters iteratively to minimize a given function to its local minimum.\n",
    "\n",
    "In regression, it is simply used to find the values of model parameters (coefficients) that minimize a cost function (like RMSE) as far as possible.\n",
    "\n",
    "In order to fully understand how this works, you need to know what a gradient is and how is it calculated. And for this, you would need some Calculus. Right this may sound a bit intimidating at this stage , but dont worry. Following section covers basic of calculus with gradients and derivatives. \n",
    "\n",
    "and by the way ..\n",
    "\n",
    "#### WELCOME TO MACHINE LEARNING \n",
    "![](https://i0.wp.com/dataandstats.com/wp-content/uploads/2017/12/machine-learning-joke.jpg?resize=638%2C359&ssl=1)"
   ]
  },
  {
   "cell_type": "markdown",
   "metadata": {},
   "source": [
    "## Further Reading\n",
    "\n",
    "[Wiki: Computational Complexity of mathematical Operations](https://en.wikipedia.org/wiki/Computational_complexity_of_mathematical_operations)\n",
    "\n",
    "[Simplified Big-O notation](https://medium.com/karuna-sehgal/a-simplified-explanation-of-the-big-o-notation-82523585e835)\n",
    "\n",
    "[Gradient Descent in a nutshell](https://towardsdatascience.com/gradient-descent-in-a-nutshell-eaf8c18212f0)\n"
   ]
  },
  {
   "cell_type": "markdown",
   "metadata": {},
   "source": [
    "## Summary \n",
    "\n",
    "In this lesson, we looked at the shortcomings and limitations of OLS and matrix inverses. We looked at the Big-O notation to explain how calculating inverses and transposes for large matrix might make our analysis unstable and computationally very expensive.  This lesson sets a stage for your next section \" Calculus and Gradient Descent\".You will have a much better understanding of the gradient descent diagram shown above and how it all works by the end of next section. "
   ]
  }
 ],
 "metadata": {
  "kernelspec": {
   "display_name": "Python 3",
   "language": "python",
   "name": "python3"
  },
  "language_info": {
   "codemirror_mode": {
    "name": "ipython",
    "version": 3
   },
   "file_extension": ".py",
   "mimetype": "text/x-python",
   "name": "python",
   "nbconvert_exporter": "python",
   "pygments_lexer": "ipython3",
   "version": "3.6.6"
  }
 },
 "nbformat": 4,
 "nbformat_minor": 2
}
